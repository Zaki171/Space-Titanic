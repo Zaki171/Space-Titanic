{
 "cells": [
  {
   "cell_type": "code",
   "execution_count": null,
   "id": "af6f6f32",
   "metadata": {
    "papermill": {
     "duration": 0.012043,
     "end_time": "2022-08-29T17:59:30.044942",
     "exception": false,
     "start_time": "2022-08-29T17:59:30.032899",
     "status": "completed"
    },
    "tags": []
   },
   "outputs": [],
   "source": []
  },
  {
   "cell_type": "code",
   "execution_count": 1,
   "id": "77442210",
   "metadata": {
    "_cell_guid": "b1076dfc-b9ad-4769-8c92-a6c4dae69d19",
    "_uuid": "8f2839f25d086af736a60e9eeb907d3b93b6e0e5",
    "execution": {
     "iopub.execute_input": "2022-08-29T17:59:30.068335Z",
     "iopub.status.busy": "2022-08-29T17:59:30.067275Z",
     "iopub.status.idle": "2022-08-29T17:59:30.085927Z",
     "shell.execute_reply": "2022-08-29T17:59:30.084602Z"
    },
    "papermill": {
     "duration": 0.034679,
     "end_time": "2022-08-29T17:59:30.090006",
     "exception": false,
     "start_time": "2022-08-29T17:59:30.055327",
     "status": "completed"
    },
    "tags": []
   },
   "outputs": [
    {
     "name": "stdout",
     "output_type": "stream",
     "text": [
      "/kaggle/input/spaceship-titanic/sample_submission.csv\n",
      "/kaggle/input/spaceship-titanic/train.csv\n",
      "/kaggle/input/spaceship-titanic/test.csv\n"
     ]
    }
   ],
   "source": [
    "# This Python 3 environment comes with many helpful analytics libraries installed\n",
    "# It is defined by the kaggle/python Docker image: https://github.com/kaggle/docker-python\n",
    "# For example, here's several helpful packages to load\n",
    "\n",
    "import numpy as np # linear algebra\n",
    "import pandas as pd # data processing, CSV file I/O (e.g. pd.read_csv)\n",
    "\n",
    "# Input data files are available in the read-only \"../input/\" directory\n",
    "# For example, running this (by clicking run or pressing Shift+Enter) will list all files under the input directory\n",
    "\n",
    "import os\n",
    "for dirname, _, filenames in os.walk('/kaggle/input'):\n",
    "    for filename in filenames:\n",
    "        print(os.path.join(dirname, filename))\n",
    "\n",
    "# You can write up to 20GB to the current directory (/kaggle/working/) that gets preserved as output when you create a version using \"Save & Run All\" \n",
    "# You can also write temporary files to /kaggle/temp/, but they won't be saved outside of the current session"
   ]
  },
  {
   "cell_type": "code",
   "execution_count": 2,
   "id": "82977a45",
   "metadata": {
    "execution": {
     "iopub.execute_input": "2022-08-29T17:59:30.112489Z",
     "iopub.status.busy": "2022-08-29T17:59:30.111804Z",
     "iopub.status.idle": "2022-08-29T17:59:31.556465Z",
     "shell.execute_reply": "2022-08-29T17:59:31.555537Z"
    },
    "papermill": {
     "duration": 1.459043,
     "end_time": "2022-08-29T17:59:31.559310",
     "exception": false,
     "start_time": "2022-08-29T17:59:30.100267",
     "status": "completed"
    },
    "tags": []
   },
   "outputs": [
    {
     "data": {
      "text/html": [
       "<div>\n",
       "<style scoped>\n",
       "    .dataframe tbody tr th:only-of-type {\n",
       "        vertical-align: middle;\n",
       "    }\n",
       "\n",
       "    .dataframe tbody tr th {\n",
       "        vertical-align: top;\n",
       "    }\n",
       "\n",
       "    .dataframe thead th {\n",
       "        text-align: right;\n",
       "    }\n",
       "</style>\n",
       "<table border=\"1\" class=\"dataframe\">\n",
       "  <thead>\n",
       "    <tr style=\"text-align: right;\">\n",
       "      <th></th>\n",
       "      <th>PassengerId</th>\n",
       "      <th>HomePlanet</th>\n",
       "      <th>CryoSleep</th>\n",
       "      <th>Cabin</th>\n",
       "      <th>Destination</th>\n",
       "      <th>Age</th>\n",
       "      <th>VIP</th>\n",
       "      <th>RoomService</th>\n",
       "      <th>FoodCourt</th>\n",
       "      <th>ShoppingMall</th>\n",
       "      <th>Spa</th>\n",
       "      <th>VRDeck</th>\n",
       "      <th>Name</th>\n",
       "      <th>Transported</th>\n",
       "    </tr>\n",
       "  </thead>\n",
       "  <tbody>\n",
       "    <tr>\n",
       "      <th>0</th>\n",
       "      <td>0001_01</td>\n",
       "      <td>Europa</td>\n",
       "      <td>False</td>\n",
       "      <td>B/0/P</td>\n",
       "      <td>TRAPPIST-1e</td>\n",
       "      <td>39.0</td>\n",
       "      <td>False</td>\n",
       "      <td>0.0</td>\n",
       "      <td>0.0</td>\n",
       "      <td>0.0</td>\n",
       "      <td>0.0</td>\n",
       "      <td>0.0</td>\n",
       "      <td>Maham Ofracculy</td>\n",
       "      <td>False</td>\n",
       "    </tr>\n",
       "    <tr>\n",
       "      <th>1</th>\n",
       "      <td>0002_01</td>\n",
       "      <td>Earth</td>\n",
       "      <td>False</td>\n",
       "      <td>F/0/S</td>\n",
       "      <td>TRAPPIST-1e</td>\n",
       "      <td>24.0</td>\n",
       "      <td>False</td>\n",
       "      <td>109.0</td>\n",
       "      <td>9.0</td>\n",
       "      <td>25.0</td>\n",
       "      <td>549.0</td>\n",
       "      <td>44.0</td>\n",
       "      <td>Juanna Vines</td>\n",
       "      <td>True</td>\n",
       "    </tr>\n",
       "    <tr>\n",
       "      <th>2</th>\n",
       "      <td>0003_01</td>\n",
       "      <td>Europa</td>\n",
       "      <td>False</td>\n",
       "      <td>A/0/S</td>\n",
       "      <td>TRAPPIST-1e</td>\n",
       "      <td>58.0</td>\n",
       "      <td>True</td>\n",
       "      <td>43.0</td>\n",
       "      <td>3576.0</td>\n",
       "      <td>0.0</td>\n",
       "      <td>6715.0</td>\n",
       "      <td>49.0</td>\n",
       "      <td>Altark Susent</td>\n",
       "      <td>False</td>\n",
       "    </tr>\n",
       "    <tr>\n",
       "      <th>3</th>\n",
       "      <td>0003_02</td>\n",
       "      <td>Europa</td>\n",
       "      <td>False</td>\n",
       "      <td>A/0/S</td>\n",
       "      <td>TRAPPIST-1e</td>\n",
       "      <td>33.0</td>\n",
       "      <td>False</td>\n",
       "      <td>0.0</td>\n",
       "      <td>1283.0</td>\n",
       "      <td>371.0</td>\n",
       "      <td>3329.0</td>\n",
       "      <td>193.0</td>\n",
       "      <td>Solam Susent</td>\n",
       "      <td>False</td>\n",
       "    </tr>\n",
       "    <tr>\n",
       "      <th>4</th>\n",
       "      <td>0004_01</td>\n",
       "      <td>Earth</td>\n",
       "      <td>False</td>\n",
       "      <td>F/1/S</td>\n",
       "      <td>TRAPPIST-1e</td>\n",
       "      <td>16.0</td>\n",
       "      <td>False</td>\n",
       "      <td>303.0</td>\n",
       "      <td>70.0</td>\n",
       "      <td>151.0</td>\n",
       "      <td>565.0</td>\n",
       "      <td>2.0</td>\n",
       "      <td>Willy Santantines</td>\n",
       "      <td>True</td>\n",
       "    </tr>\n",
       "  </tbody>\n",
       "</table>\n",
       "</div>"
      ],
      "text/plain": [
       "  PassengerId HomePlanet CryoSleep  Cabin  Destination   Age    VIP  \\\n",
       "0     0001_01     Europa     False  B/0/P  TRAPPIST-1e  39.0  False   \n",
       "1     0002_01      Earth     False  F/0/S  TRAPPIST-1e  24.0  False   \n",
       "2     0003_01     Europa     False  A/0/S  TRAPPIST-1e  58.0   True   \n",
       "3     0003_02     Europa     False  A/0/S  TRAPPIST-1e  33.0  False   \n",
       "4     0004_01      Earth     False  F/1/S  TRAPPIST-1e  16.0  False   \n",
       "\n",
       "   RoomService  FoodCourt  ShoppingMall     Spa  VRDeck               Name  \\\n",
       "0          0.0        0.0           0.0     0.0     0.0    Maham Ofracculy   \n",
       "1        109.0        9.0          25.0   549.0    44.0       Juanna Vines   \n",
       "2         43.0     3576.0           0.0  6715.0    49.0      Altark Susent   \n",
       "3          0.0     1283.0         371.0  3329.0   193.0       Solam Susent   \n",
       "4        303.0       70.0         151.0   565.0     2.0  Willy Santantines   \n",
       "\n",
       "   Transported  \n",
       "0        False  \n",
       "1         True  \n",
       "2        False  \n",
       "3        False  \n",
       "4         True  "
      ]
     },
     "execution_count": 2,
     "metadata": {},
     "output_type": "execute_result"
    }
   ],
   "source": [
    "import pandas as pd\n",
    "from sklearn.model_selection import train_test_split\n",
    "\n",
    "\n",
    "train_data = pd.read_csv('../input/spaceship-titanic/train.csv')\n",
    "test_data = pd.read_csv('../input/spaceship-titanic/test.csv')\n",
    "y = train_data.Transported\n",
    "train_data.head()"
   ]
  },
  {
   "cell_type": "code",
   "execution_count": 3,
   "id": "d1a76129",
   "metadata": {
    "execution": {
     "iopub.execute_input": "2022-08-29T17:59:31.582699Z",
     "iopub.status.busy": "2022-08-29T17:59:31.581547Z",
     "iopub.status.idle": "2022-08-29T17:59:31.588579Z",
     "shell.execute_reply": "2022-08-29T17:59:31.587519Z"
    },
    "papermill": {
     "duration": 0.021063,
     "end_time": "2022-08-29T17:59:31.590972",
     "exception": false,
     "start_time": "2022-08-29T17:59:31.569909",
     "status": "completed"
    },
    "tags": []
   },
   "outputs": [
    {
     "data": {
      "text/plain": [
       "(8693, 14)"
      ]
     },
     "execution_count": 3,
     "metadata": {},
     "output_type": "execute_result"
    }
   ],
   "source": [
    "train_data.shape"
   ]
  },
  {
   "cell_type": "code",
   "execution_count": 4,
   "id": "5884d36c",
   "metadata": {
    "execution": {
     "iopub.execute_input": "2022-08-29T17:59:31.615599Z",
     "iopub.status.busy": "2022-08-29T17:59:31.614990Z",
     "iopub.status.idle": "2022-08-29T17:59:31.621137Z",
     "shell.execute_reply": "2022-08-29T17:59:31.619856Z"
    },
    "papermill": {
     "duration": 0.021035,
     "end_time": "2022-08-29T17:59:31.623520",
     "exception": false,
     "start_time": "2022-08-29T17:59:31.602485",
     "status": "completed"
    },
    "tags": []
   },
   "outputs": [
    {
     "data": {
      "text/plain": [
       "(4277, 13)"
      ]
     },
     "execution_count": 4,
     "metadata": {},
     "output_type": "execute_result"
    }
   ],
   "source": [
    "test_data.shape"
   ]
  },
  {
   "cell_type": "code",
   "execution_count": 5,
   "id": "bf1a2e7c",
   "metadata": {
    "execution": {
     "iopub.execute_input": "2022-08-29T17:59:31.646913Z",
     "iopub.status.busy": "2022-08-29T17:59:31.646463Z",
     "iopub.status.idle": "2022-08-29T17:59:31.673864Z",
     "shell.execute_reply": "2022-08-29T17:59:31.672204Z"
    },
    "papermill": {
     "duration": 0.041862,
     "end_time": "2022-08-29T17:59:31.676260",
     "exception": false,
     "start_time": "2022-08-29T17:59:31.634398",
     "status": "completed"
    },
    "tags": []
   },
   "outputs": [
    {
     "name": "stdout",
     "output_type": "stream",
     "text": [
      "<class 'pandas.core.frame.DataFrame'>\n",
      "RangeIndex: 8693 entries, 0 to 8692\n",
      "Data columns (total 14 columns):\n",
      " #   Column        Non-Null Count  Dtype  \n",
      "---  ------        --------------  -----  \n",
      " 0   PassengerId   8693 non-null   object \n",
      " 1   HomePlanet    8492 non-null   object \n",
      " 2   CryoSleep     8476 non-null   object \n",
      " 3   Cabin         8494 non-null   object \n",
      " 4   Destination   8511 non-null   object \n",
      " 5   Age           8514 non-null   float64\n",
      " 6   VIP           8490 non-null   object \n",
      " 7   RoomService   8512 non-null   float64\n",
      " 8   FoodCourt     8510 non-null   float64\n",
      " 9   ShoppingMall  8485 non-null   float64\n",
      " 10  Spa           8510 non-null   float64\n",
      " 11  VRDeck        8505 non-null   float64\n",
      " 12  Name          8493 non-null   object \n",
      " 13  Transported   8693 non-null   bool   \n",
      "dtypes: bool(1), float64(6), object(7)\n",
      "memory usage: 891.5+ KB\n"
     ]
    }
   ],
   "source": [
    "train_data.info()"
   ]
  },
  {
   "cell_type": "code",
   "execution_count": 6,
   "id": "7deded5c",
   "metadata": {
    "execution": {
     "iopub.execute_input": "2022-08-29T17:59:31.699649Z",
     "iopub.status.busy": "2022-08-29T17:59:31.699220Z",
     "iopub.status.idle": "2022-08-29T17:59:31.714300Z",
     "shell.execute_reply": "2022-08-29T17:59:31.712771Z"
    },
    "papermill": {
     "duration": 0.030126,
     "end_time": "2022-08-29T17:59:31.717012",
     "exception": false,
     "start_time": "2022-08-29T17:59:31.686886",
     "status": "completed"
    },
    "tags": []
   },
   "outputs": [
    {
     "data": {
      "text/plain": [
       "PassengerId       0\n",
       "HomePlanet      201\n",
       "CryoSleep       217\n",
       "Cabin           199\n",
       "Destination     182\n",
       "Age             179\n",
       "VIP             203\n",
       "RoomService     181\n",
       "FoodCourt       183\n",
       "ShoppingMall    208\n",
       "Spa             183\n",
       "VRDeck          188\n",
       "Name            200\n",
       "Transported       0\n",
       "dtype: int64"
      ]
     },
     "execution_count": 6,
     "metadata": {},
     "output_type": "execute_result"
    }
   ],
   "source": [
    "train_data.isnull().sum()"
   ]
  },
  {
   "cell_type": "code",
   "execution_count": 7,
   "id": "9623083a",
   "metadata": {
    "execution": {
     "iopub.execute_input": "2022-08-29T17:59:31.740330Z",
     "iopub.status.busy": "2022-08-29T17:59:31.739940Z",
     "iopub.status.idle": "2022-08-29T17:59:31.752137Z",
     "shell.execute_reply": "2022-08-29T17:59:31.750641Z"
    },
    "papermill": {
     "duration": 0.027368,
     "end_time": "2022-08-29T17:59:31.755116",
     "exception": false,
     "start_time": "2022-08-29T17:59:31.727748",
     "status": "completed"
    },
    "tags": []
   },
   "outputs": [
    {
     "data": {
      "text/plain": [
       "PassengerId       0\n",
       "HomePlanet       87\n",
       "CryoSleep        93\n",
       "Cabin           100\n",
       "Destination      92\n",
       "Age              91\n",
       "VIP              93\n",
       "RoomService      82\n",
       "FoodCourt       106\n",
       "ShoppingMall     98\n",
       "Spa             101\n",
       "VRDeck           80\n",
       "Name             94\n",
       "dtype: int64"
      ]
     },
     "execution_count": 7,
     "metadata": {},
     "output_type": "execute_result"
    }
   ],
   "source": [
    "test_data.isnull().sum()"
   ]
  },
  {
   "cell_type": "code",
   "execution_count": 8,
   "id": "0fc80481",
   "metadata": {
    "execution": {
     "iopub.execute_input": "2022-08-29T17:59:31.779469Z",
     "iopub.status.busy": "2022-08-29T17:59:31.778659Z",
     "iopub.status.idle": "2022-08-29T17:59:31.793090Z",
     "shell.execute_reply": "2022-08-29T17:59:31.791921Z"
    },
    "papermill": {
     "duration": 0.029343,
     "end_time": "2022-08-29T17:59:31.795565",
     "exception": false,
     "start_time": "2022-08-29T17:59:31.766222",
     "status": "completed"
    },
    "tags": []
   },
   "outputs": [
    {
     "data": {
      "text/plain": [
       "1.9095824226389047"
      ]
     },
     "execution_count": 8,
     "metadata": {},
     "output_type": "execute_result"
    }
   ],
   "source": [
    "(train_data.isnull().sum().sum()/train_data.size)*100"
   ]
  },
  {
   "cell_type": "code",
   "execution_count": 9,
   "id": "d72db458",
   "metadata": {
    "execution": {
     "iopub.execute_input": "2022-08-29T17:59:31.819408Z",
     "iopub.status.busy": "2022-08-29T17:59:31.818637Z",
     "iopub.status.idle": "2022-08-29T17:59:32.639851Z",
     "shell.execute_reply": "2022-08-29T17:59:32.638915Z"
    },
    "papermill": {
     "duration": 0.835693,
     "end_time": "2022-08-29T17:59:32.642290",
     "exception": false,
     "start_time": "2022-08-29T17:59:31.806597",
     "status": "completed"
    },
    "tags": []
   },
   "outputs": [
    {
     "data": {
      "text/plain": [
       "<AxesSubplot:>"
      ]
     },
     "execution_count": 9,
     "metadata": {},
     "output_type": "execute_result"
    },
    {
     "data": {
      "image/png": "[encoded data removed]",
      "text/plain": [
       "<Figure size 720x720 with 2 Axes>"
      ]
     },
     "metadata": {
      "needs_background": "light"
     },
     "output_type": "display_data"
    }
   ],
   "source": [
    "import seaborn as sns\n",
    "import matplotlib.pyplot as plt\n",
    "plt.figure(figsize = (10,10))\n",
    "corr_mat = train_data.corr()\n",
    "sns.heatmap(corr_mat, annot = True)"
   ]
  },
  {
   "cell_type": "markdown",
   "id": "44660a04",
   "metadata": {
    "papermill": {
     "duration": 0.01203,
     "end_time": "2022-08-29T17:59:32.666361",
     "exception": false,
     "start_time": "2022-08-29T17:59:32.654331",
     "status": "completed"
    },
    "tags": []
   },
   "source": [
    "Strongest correlations indicate that the people who paid more for RoomService, Spa and VRDeck had a lower chance of being transported. "
   ]
  },
  {
   "cell_type": "code",
   "execution_count": 10,
   "id": "11cd5497",
   "metadata": {
    "execution": {
     "iopub.execute_input": "2022-08-29T17:59:32.692892Z",
     "iopub.status.busy": "2022-08-29T17:59:32.692248Z",
     "iopub.status.idle": "2022-08-29T17:59:32.884501Z",
     "shell.execute_reply": "2022-08-29T17:59:32.883528Z"
    },
    "papermill": {
     "duration": 0.208156,
     "end_time": "2022-08-29T17:59:32.886871",
     "exception": false,
     "start_time": "2022-08-29T17:59:32.678715",
     "status": "completed"
    },
    "tags": []
   },
   "outputs": [
    {
     "data": {
      "text/plain": [
       "<AxesSubplot:xlabel='HomePlanet', ylabel='Count'>"
      ]
     },
     "execution_count": 10,
     "metadata": {},
     "output_type": "execute_result"
    },
    {
     "data": {
      "image/png": "[encoded data removed]",
      "text/plain": [
       "<Figure size 432x288 with 1 Axes>"
      ]
     },
     "metadata": {
      "needs_background": "light"
     },
     "output_type": "display_data"
    }
   ],
   "source": [
    "sns.histplot(data = train_data, x = 'HomePlanet')"
   ]
  },
  {
   "cell_type": "code",
   "execution_count": 11,
   "id": "3d109c84",
   "metadata": {
    "execution": {
     "iopub.execute_input": "2022-08-29T17:59:32.914101Z",
     "iopub.status.busy": "2022-08-29T17:59:32.913680Z",
     "iopub.status.idle": "2022-08-29T17:59:32.924987Z",
     "shell.execute_reply": "2022-08-29T17:59:32.923757Z"
    },
    "papermill": {
     "duration": 0.028133,
     "end_time": "2022-08-29T17:59:32.927374",
     "exception": false,
     "start_time": "2022-08-29T17:59:32.899241",
     "status": "completed"
    },
    "tags": []
   },
   "outputs": [
    {
     "data": {
      "text/plain": [
       "0"
      ]
     },
     "execution_count": 11,
     "metadata": {},
     "output_type": "execute_result"
    }
   ],
   "source": [
    "train_data['HomePlanet'] = train_data['HomePlanet'].fillna('Earth')\n",
    "test_data['HomePlanet'] = test_data['HomePlanet'].fillna('Earth')\n",
    "train_data['HomePlanet'].isnull().sum()"
   ]
  },
  {
   "cell_type": "code",
   "execution_count": 12,
   "id": "6db2b5e5",
   "metadata": {
    "execution": {
     "iopub.execute_input": "2022-08-29T17:59:32.954078Z",
     "iopub.status.busy": "2022-08-29T17:59:32.953454Z",
     "iopub.status.idle": "2022-08-29T17:59:32.961466Z",
     "shell.execute_reply": "2022-08-29T17:59:32.960578Z"
    },
    "papermill": {
     "duration": 0.024009,
     "end_time": "2022-08-29T17:59:32.963661",
     "exception": false,
     "start_time": "2022-08-29T17:59:32.939652",
     "status": "completed"
    },
    "tags": []
   },
   "outputs": [
    {
     "data": {
      "text/plain": [
       "False    5439\n",
       "True     3037\n",
       "Name: CryoSleep, dtype: int64"
      ]
     },
     "execution_count": 12,
     "metadata": {},
     "output_type": "execute_result"
    }
   ],
   "source": [
    "train_data['CryoSleep'].value_counts()"
   ]
  },
  {
   "cell_type": "code",
   "execution_count": 13,
   "id": "d3120e5d",
   "metadata": {
    "execution": {
     "iopub.execute_input": "2022-08-29T17:59:32.991678Z",
     "iopub.status.busy": "2022-08-29T17:59:32.990961Z",
     "iopub.status.idle": "2022-08-29T17:59:32.998969Z",
     "shell.execute_reply": "2022-08-29T17:59:32.998034Z"
    },
    "papermill": {
     "duration": 0.025136,
     "end_time": "2022-08-29T17:59:33.001301",
     "exception": false,
     "start_time": "2022-08-29T17:59:32.976165",
     "status": "completed"
    },
    "tags": []
   },
   "outputs": [
    {
     "data": {
      "text/plain": [
       "False    2640\n",
       "True     1544\n",
       "Name: CryoSleep, dtype: int64"
      ]
     },
     "execution_count": 13,
     "metadata": {},
     "output_type": "execute_result"
    }
   ],
   "source": [
    "test_data['CryoSleep'].value_counts()"
   ]
  },
  {
   "cell_type": "code",
   "execution_count": 14,
   "id": "8cf142f6",
   "metadata": {
    "execution": {
     "iopub.execute_input": "2022-08-29T17:59:33.028537Z",
     "iopub.status.busy": "2022-08-29T17:59:33.027535Z",
     "iopub.status.idle": "2022-08-29T17:59:33.037775Z",
     "shell.execute_reply": "2022-08-29T17:59:33.036900Z"
    },
    "papermill": {
     "duration": 0.026158,
     "end_time": "2022-08-29T17:59:33.040032",
     "exception": false,
     "start_time": "2022-08-29T17:59:33.013874",
     "status": "completed"
    },
    "tags": []
   },
   "outputs": [
    {
     "data": {
      "text/plain": [
       "0"
      ]
     },
     "execution_count": 14,
     "metadata": {},
     "output_type": "execute_result"
    }
   ],
   "source": [
    "train_data['CryoSleep'] = train_data['CryoSleep'].fillna('False')\n",
    "test_data['CryoSleep'] = test_data['CryoSleep'].fillna('False')\n",
    "train_data['CryoSleep'].isnull().sum()"
   ]
  },
  {
   "cell_type": "code",
   "execution_count": 15,
   "id": "5443c220",
   "metadata": {
    "execution": {
     "iopub.execute_input": "2022-08-29T17:59:33.067074Z",
     "iopub.status.busy": "2022-08-29T17:59:33.066679Z",
     "iopub.status.idle": "2022-08-29T17:59:33.073724Z",
     "shell.execute_reply": "2022-08-29T17:59:33.072685Z"
    },
    "papermill": {
     "duration": 0.023991,
     "end_time": "2022-08-29T17:59:33.076441",
     "exception": false,
     "start_time": "2022-08-29T17:59:33.052450",
     "status": "completed"
    },
    "tags": []
   },
   "outputs": [],
   "source": [
    "train_data['Destination'].value_counts()\n",
    "train_data['Destination'] = train_data['Destination'].fillna('TRAPPIST-1e')"
   ]
  },
  {
   "cell_type": "code",
   "execution_count": 16,
   "id": "689eddb1",
   "metadata": {
    "execution": {
     "iopub.execute_input": "2022-08-29T17:59:33.104201Z",
     "iopub.status.busy": "2022-08-29T17:59:33.103417Z",
     "iopub.status.idle": "2022-08-29T17:59:33.110374Z",
     "shell.execute_reply": "2022-08-29T17:59:33.109201Z"
    },
    "papermill": {
     "duration": 0.024125,
     "end_time": "2022-08-29T17:59:33.113167",
     "exception": false,
     "start_time": "2022-08-29T17:59:33.089042",
     "status": "completed"
    },
    "tags": []
   },
   "outputs": [],
   "source": [
    "test_data['Destination'].value_counts()\n",
    "test_data['Destination'] = test_data['Destination'].fillna('TRAPPIST-1e')"
   ]
  },
  {
   "cell_type": "code",
   "execution_count": 17,
   "id": "fb1018af",
   "metadata": {
    "execution": {
     "iopub.execute_input": "2022-08-29T17:59:33.140482Z",
     "iopub.status.busy": "2022-08-29T17:59:33.139746Z",
     "iopub.status.idle": "2022-08-29T17:59:33.453343Z",
     "shell.execute_reply": "2022-08-29T17:59:33.452171Z"
    },
    "papermill": {
     "duration": 0.330173,
     "end_time": "2022-08-29T17:59:33.456063",
     "exception": false,
     "start_time": "2022-08-29T17:59:33.125890",
     "status": "completed"
    },
    "tags": []
   },
   "outputs": [
    {
     "data": {
      "text/plain": [
       "<AxesSubplot:xlabel='Age', ylabel='Count'>"
      ]
     },
     "execution_count": 17,
     "metadata": {},
     "output_type": "execute_result"
    },
    {
     "data": {
      "image/png": "[encoded data removed]",
      "text/plain": [
       "<Figure size 432x288 with 1 Axes>"
      ]
     },
     "metadata": {
      "needs_background": "light"
     },
     "output_type": "display_data"
    }
   ],
   "source": [
    "sns.histplot(data = train_data, x = 'Age')"
   ]
  },
  {
   "cell_type": "code",
   "execution_count": 18,
   "id": "a84404fd",
   "metadata": {
    "execution": {
     "iopub.execute_input": "2022-08-29T17:59:33.484202Z",
     "iopub.status.busy": "2022-08-29T17:59:33.483421Z",
     "iopub.status.idle": "2022-08-29T17:59:33.492212Z",
     "shell.execute_reply": "2022-08-29T17:59:33.491289Z"
    },
    "papermill": {
     "duration": 0.025283,
     "end_time": "2022-08-29T17:59:33.494647",
     "exception": false,
     "start_time": "2022-08-29T17:59:33.469364",
     "status": "completed"
    },
    "tags": []
   },
   "outputs": [],
   "source": [
    "train_data['Age'] = train_data['Age'].fillna(train_data.Age.median())\n",
    "test_data['Age'] = test_data['Age'].fillna(test_data.Age.median())"
   ]
  },
  {
   "cell_type": "code",
   "execution_count": 19,
   "id": "94ad6186",
   "metadata": {
    "execution": {
     "iopub.execute_input": "2022-08-29T17:59:33.522637Z",
     "iopub.status.busy": "2022-08-29T17:59:33.521949Z",
     "iopub.status.idle": "2022-08-29T17:59:33.530297Z",
     "shell.execute_reply": "2022-08-29T17:59:33.529126Z"
    },
    "papermill": {
     "duration": 0.024998,
     "end_time": "2022-08-29T17:59:33.532690",
     "exception": false,
     "start_time": "2022-08-29T17:59:33.507692",
     "status": "completed"
    },
    "tags": []
   },
   "outputs": [
    {
     "data": {
      "text/plain": [
       "False    8291\n",
       "True      199\n",
       "Name: VIP, dtype: int64"
      ]
     },
     "execution_count": 19,
     "metadata": {},
     "output_type": "execute_result"
    }
   ],
   "source": [
    "train_data['VIP'].value_counts()"
   ]
  },
  {
   "cell_type": "code",
   "execution_count": 20,
   "id": "69b9c360",
   "metadata": {
    "execution": {
     "iopub.execute_input": "2022-08-29T17:59:33.561161Z",
     "iopub.status.busy": "2022-08-29T17:59:33.560458Z",
     "iopub.status.idle": "2022-08-29T17:59:33.568713Z",
     "shell.execute_reply": "2022-08-29T17:59:33.567450Z"
    },
    "papermill": {
     "duration": 0.025558,
     "end_time": "2022-08-29T17:59:33.571207",
     "exception": false,
     "start_time": "2022-08-29T17:59:33.545649",
     "status": "completed"
    },
    "tags": []
   },
   "outputs": [
    {
     "data": {
      "text/plain": [
       "False    4110\n",
       "True       74\n",
       "Name: VIP, dtype: int64"
      ]
     },
     "execution_count": 20,
     "metadata": {},
     "output_type": "execute_result"
    }
   ],
   "source": [
    "test_data['VIP'].value_counts()"
   ]
  },
  {
   "cell_type": "code",
   "execution_count": 21,
   "id": "39d428c7",
   "metadata": {
    "execution": {
     "iopub.execute_input": "2022-08-29T17:59:33.599232Z",
     "iopub.status.busy": "2022-08-29T17:59:33.598796Z",
     "iopub.status.idle": "2022-08-29T17:59:33.606762Z",
     "shell.execute_reply": "2022-08-29T17:59:33.605800Z"
    },
    "papermill": {
     "duration": 0.024914,
     "end_time": "2022-08-29T17:59:33.609355",
     "exception": false,
     "start_time": "2022-08-29T17:59:33.584441",
     "status": "completed"
    },
    "tags": []
   },
   "outputs": [],
   "source": [
    "train_data['VIP'] = train_data['VIP'].fillna('False')\n",
    "test_data['VIP'] = test_data['VIP'].fillna('False')"
   ]
  },
  {
   "cell_type": "code",
   "execution_count": 22,
   "id": "5cb759dc",
   "metadata": {
    "execution": {
     "iopub.execute_input": "2022-08-29T17:59:33.637573Z",
     "iopub.status.busy": "2022-08-29T17:59:33.636721Z",
     "iopub.status.idle": "2022-08-29T17:59:33.907932Z",
     "shell.execute_reply": "2022-08-29T17:59:33.906614Z"
    },
    "papermill": {
     "duration": 0.288382,
     "end_time": "2022-08-29T17:59:33.910787",
     "exception": false,
     "start_time": "2022-08-29T17:59:33.622405",
     "status": "completed"
    },
    "tags": []
   },
   "outputs": [
    {
     "data": {
      "text/plain": [
       "<AxesSubplot:xlabel='RoomService', ylabel='Density'>"
      ]
     },
     "execution_count": 22,
     "metadata": {},
     "output_type": "execute_result"
    },
    {
     "data": {
      "image/png": "[encoded data removed]",
      "text/plain": [
       "<Figure size 432x288 with 1 Axes>"
      ]
     },
     "metadata": {
      "needs_background": "light"
     },
     "output_type": "display_data"
    }
   ],
   "source": [
    "sns.kdeplot(data = train_data, x = 'RoomService')"
   ]
  },
  {
   "cell_type": "code",
   "execution_count": 23,
   "id": "8e055bcf",
   "metadata": {
    "execution": {
     "iopub.execute_input": "2022-08-29T17:59:33.939958Z",
     "iopub.status.busy": "2022-08-29T17:59:33.939281Z",
     "iopub.status.idle": "2022-08-29T17:59:33.945658Z",
     "shell.execute_reply": "2022-08-29T17:59:33.944797Z"
    },
    "papermill": {
     "duration": 0.023726,
     "end_time": "2022-08-29T17:59:33.948257",
     "exception": false,
     "start_time": "2022-08-29T17:59:33.924531",
     "status": "completed"
    },
    "tags": []
   },
   "outputs": [],
   "source": [
    "train_data['RoomService'] = train_data['RoomService'].fillna(train_data['RoomService'].mean())\n",
    "test_data['RoomService'] = test_data['RoomService'].fillna(test_data['RoomService'].mean())"
   ]
  },
  {
   "cell_type": "code",
   "execution_count": 24,
   "id": "0464e1b7",
   "metadata": {
    "execution": {
     "iopub.execute_input": "2022-08-29T17:59:33.977163Z",
     "iopub.status.busy": "2022-08-29T17:59:33.976385Z",
     "iopub.status.idle": "2022-08-29T17:59:34.223671Z",
     "shell.execute_reply": "2022-08-29T17:59:34.222740Z"
    },
    "papermill": {
     "duration": 0.264549,
     "end_time": "2022-08-29T17:59:34.226114",
     "exception": false,
     "start_time": "2022-08-29T17:59:33.961565",
     "status": "completed"
    },
    "tags": []
   },
   "outputs": [
    {
     "data": {
      "text/plain": [
       "<AxesSubplot:xlabel='FoodCourt', ylabel='Density'>"
      ]
     },
     "execution_count": 24,
     "metadata": {},
     "output_type": "execute_result"
    },
    {
     "data": {
      "image/png": "[encoded data removed]",
      "text/plain": [
       "<Figure size 432x288 with 1 Axes>"
      ]
     },
     "metadata": {
      "needs_background": "light"
     },
     "output_type": "display_data"
    }
   ],
   "source": [
    "sns.kdeplot(data = train_data, x = 'FoodCourt')"
   ]
  },
  {
   "cell_type": "code",
   "execution_count": 25,
   "id": "094d25ce",
   "metadata": {
    "execution": {
     "iopub.execute_input": "2022-08-29T17:59:34.256006Z",
     "iopub.status.busy": "2022-08-29T17:59:34.255232Z",
     "iopub.status.idle": "2022-08-29T17:59:34.262358Z",
     "shell.execute_reply": "2022-08-29T17:59:34.261144Z"
    },
    "papermill": {
     "duration": 0.025186,
     "end_time": "2022-08-29T17:59:34.265214",
     "exception": false,
     "start_time": "2022-08-29T17:59:34.240028",
     "status": "completed"
    },
    "tags": []
   },
   "outputs": [],
   "source": [
    "train_data['FoodCourt'] = train_data['FoodCourt'].fillna(train_data['FoodCourt'].mean())\n",
    "test_data['FoodCourt'] = test_data['FoodCourt'].fillna(test_data['FoodCourt'].mean())"
   ]
  },
  {
   "cell_type": "code",
   "execution_count": 26,
   "id": "3dbd2c79",
   "metadata": {
    "execution": {
     "iopub.execute_input": "2022-08-29T17:59:34.294916Z",
     "iopub.status.busy": "2022-08-29T17:59:34.294251Z",
     "iopub.status.idle": "2022-08-29T17:59:34.523060Z",
     "shell.execute_reply": "2022-08-29T17:59:34.522144Z"
    },
    "papermill": {
     "duration": 0.246586,
     "end_time": "2022-08-29T17:59:34.525498",
     "exception": false,
     "start_time": "2022-08-29T17:59:34.278912",
     "status": "completed"
    },
    "tags": []
   },
   "outputs": [
    {
     "data": {
      "text/plain": [
       "<AxesSubplot:xlabel='ShoppingMall', ylabel='Density'>"
      ]
     },
     "execution_count": 26,
     "metadata": {},
     "output_type": "execute_result"
    },
    {
     "data": {
      "image/png": "[encoded data removed]",
      "text/plain": [
       "<Figure size 432x288 with 1 Axes>"
      ]
     },
     "metadata": {
      "needs_background": "light"
     },
     "output_type": "display_data"
    }
   ],
   "source": [
    "sns.kdeplot(data = train_data, x = 'ShoppingMall')"
   ]
  },
  {
   "cell_type": "code",
   "execution_count": 27,
   "id": "649cbf27",
   "metadata": {
    "execution": {
     "iopub.execute_input": "2022-08-29T17:59:34.555954Z",
     "iopub.status.busy": "2022-08-29T17:59:34.555245Z",
     "iopub.status.idle": "2022-08-29T17:59:34.561848Z",
     "shell.execute_reply": "2022-08-29T17:59:34.560812Z"
    },
    "papermill": {
     "duration": 0.024584,
     "end_time": "2022-08-29T17:59:34.564256",
     "exception": false,
     "start_time": "2022-08-29T17:59:34.539672",
     "status": "completed"
    },
    "tags": []
   },
   "outputs": [],
   "source": [
    "train_data['ShoppingMall'] = train_data['ShoppingMall'].fillna(train_data['ShoppingMall'].mean())\n",
    "test_data['ShoppingMall'] = test_data['ShoppingMall'].fillna(test_data['ShoppingMall'].mean())"
   ]
  },
  {
   "cell_type": "code",
   "execution_count": 28,
   "id": "71e1eba1",
   "metadata": {
    "execution": {
     "iopub.execute_input": "2022-08-29T17:59:34.594133Z",
     "iopub.status.busy": "2022-08-29T17:59:34.593685Z",
     "iopub.status.idle": "2022-08-29T17:59:34.837795Z",
     "shell.execute_reply": "2022-08-29T17:59:34.836581Z"
    },
    "papermill": {
     "duration": 0.262079,
     "end_time": "2022-08-29T17:59:34.840451",
     "exception": false,
     "start_time": "2022-08-29T17:59:34.578372",
     "status": "completed"
    },
    "tags": []
   },
   "outputs": [
    {
     "data": {
      "text/plain": [
       "<AxesSubplot:xlabel='Spa', ylabel='Density'>"
      ]
     },
     "execution_count": 28,
     "metadata": {},
     "output_type": "execute_result"
    },
    {
     "data": {
      "image/png": "[encoded data removed]",
      "text/plain": [
       "<Figure size 432x288 with 1 Axes>"
      ]
     },
     "metadata": {
      "needs_background": "light"
     },
     "output_type": "display_data"
    }
   ],
   "source": [
    "sns.kdeplot(data = train_data, x = 'Spa')"
   ]
  },
  {
   "cell_type": "code",
   "execution_count": 29,
   "id": "b9df5163",
   "metadata": {
    "execution": {
     "iopub.execute_input": "2022-08-29T17:59:34.871914Z",
     "iopub.status.busy": "2022-08-29T17:59:34.871468Z",
     "iopub.status.idle": "2022-08-29T17:59:34.880157Z",
     "shell.execute_reply": "2022-08-29T17:59:34.878865Z"
    },
    "papermill": {
     "duration": 0.027259,
     "end_time": "2022-08-29T17:59:34.882677",
     "exception": false,
     "start_time": "2022-08-29T17:59:34.855418",
     "status": "completed"
    },
    "tags": []
   },
   "outputs": [],
   "source": [
    "train_data['Spa'] = train_data['Spa'].fillna(train_data['Spa'].mean())\n",
    "test_data['Spa'] = test_data['Spa'].fillna(test_data['Spa'].mean())"
   ]
  },
  {
   "cell_type": "code",
   "execution_count": 30,
   "id": "ea720579",
   "metadata": {
    "execution": {
     "iopub.execute_input": "2022-08-29T17:59:34.914030Z",
     "iopub.status.busy": "2022-08-29T17:59:34.912965Z",
     "iopub.status.idle": "2022-08-29T17:59:35.178030Z",
     "shell.execute_reply": "2022-08-29T17:59:35.176614Z"
    },
    "papermill": {
     "duration": 0.28376,
     "end_time": "2022-08-29T17:59:35.181036",
     "exception": false,
     "start_time": "2022-08-29T17:59:34.897276",
     "status": "completed"
    },
    "tags": []
   },
   "outputs": [
    {
     "data": {
      "text/plain": [
       "<AxesSubplot:xlabel='VRDeck', ylabel='Density'>"
      ]
     },
     "execution_count": 30,
     "metadata": {},
     "output_type": "execute_result"
    },
    {
     "data": {
      "image/png": "[encoded data removed]",
      "text/plain": [
       "<Figure size 432x288 with 1 Axes>"
      ]
     },
     "metadata": {
      "needs_background": "light"
     },
     "output_type": "display_data"
    }
   ],
   "source": [
    "sns.kdeplot(data = train_data, x = 'VRDeck')"
   ]
  },
  {
   "cell_type": "code",
   "execution_count": 31,
   "id": "e3b941d6",
   "metadata": {
    "execution": {
     "iopub.execute_input": "2022-08-29T17:59:35.225367Z",
     "iopub.status.busy": "2022-08-29T17:59:35.224035Z",
     "iopub.status.idle": "2022-08-29T17:59:35.233815Z",
     "shell.execute_reply": "2022-08-29T17:59:35.232464Z"
    },
    "papermill": {
     "duration": 0.039494,
     "end_time": "2022-08-29T17:59:35.236641",
     "exception": false,
     "start_time": "2022-08-29T17:59:35.197147",
     "status": "completed"
    },
    "tags": []
   },
   "outputs": [],
   "source": [
    "train_data['VRDeck'] = train_data['VRDeck'].fillna(train_data['VRDeck'].mean())\n",
    "test_data['VRDeck'] = test_data['VRDeck'].fillna(test_data['VRDeck'].mean())"
   ]
  },
  {
   "cell_type": "code",
   "execution_count": 32,
   "id": "bf73f291",
   "metadata": {
    "execution": {
     "iopub.execute_input": "2022-08-29T17:59:35.269102Z",
     "iopub.status.busy": "2022-08-29T17:59:35.268423Z",
     "iopub.status.idle": "2022-08-29T17:59:35.276909Z",
     "shell.execute_reply": "2022-08-29T17:59:35.275988Z"
    },
    "papermill": {
     "duration": 0.026902,
     "end_time": "2022-08-29T17:59:35.279145",
     "exception": false,
     "start_time": "2022-08-29T17:59:35.252243",
     "status": "completed"
    },
    "tags": []
   },
   "outputs": [],
   "source": [
    "train_data = train_data.drop(['PassengerId','Cabin','Name'], axis = 1)\n",
    "test_ids = test_data.PassengerId\n",
    "test_data = test_data.drop(['PassengerId','Cabin','Name'], axis = 1)"
   ]
  },
  {
   "cell_type": "code",
   "execution_count": 33,
   "id": "46ad64cb",
   "metadata": {
    "execution": {
     "iopub.execute_input": "2022-08-29T17:59:35.311157Z",
     "iopub.status.busy": "2022-08-29T17:59:35.310297Z",
     "iopub.status.idle": "2022-08-29T17:59:35.322116Z",
     "shell.execute_reply": "2022-08-29T17:59:35.321034Z"
    },
    "papermill": {
     "duration": 0.030289,
     "end_time": "2022-08-29T17:59:35.324418",
     "exception": false,
     "start_time": "2022-08-29T17:59:35.294129",
     "status": "completed"
    },
    "tags": []
   },
   "outputs": [
    {
     "data": {
      "text/plain": [
       "HomePlanet      0\n",
       "CryoSleep       0\n",
       "Destination     0\n",
       "Age             0\n",
       "VIP             0\n",
       "RoomService     0\n",
       "FoodCourt       0\n",
       "ShoppingMall    0\n",
       "Spa             0\n",
       "VRDeck          0\n",
       "Transported     0\n",
       "dtype: int64"
      ]
     },
     "execution_count": 33,
     "metadata": {},
     "output_type": "execute_result"
    }
   ],
   "source": [
    "train_data.isnull().sum()"
   ]
  },
  {
   "cell_type": "code",
   "execution_count": 34,
   "id": "79f8101a",
   "metadata": {
    "execution": {
     "iopub.execute_input": "2022-08-29T17:59:35.356359Z",
     "iopub.status.busy": "2022-08-29T17:59:35.355943Z",
     "iopub.status.idle": "2022-08-29T17:59:35.366740Z",
     "shell.execute_reply": "2022-08-29T17:59:35.365417Z"
    },
    "papermill": {
     "duration": 0.029595,
     "end_time": "2022-08-29T17:59:35.369156",
     "exception": false,
     "start_time": "2022-08-29T17:59:35.339561",
     "status": "completed"
    },
    "tags": []
   },
   "outputs": [
    {
     "data": {
      "text/plain": [
       "HomePlanet      0\n",
       "CryoSleep       0\n",
       "Destination     0\n",
       "Age             0\n",
       "VIP             0\n",
       "RoomService     0\n",
       "FoodCourt       0\n",
       "ShoppingMall    0\n",
       "Spa             0\n",
       "VRDeck          0\n",
       "dtype: int64"
      ]
     },
     "execution_count": 34,
     "metadata": {},
     "output_type": "execute_result"
    }
   ],
   "source": [
    " test_data.isnull().sum()"
   ]
  },
  {
   "cell_type": "code",
   "execution_count": 35,
   "id": "2de143f9",
   "metadata": {
    "execution": {
     "iopub.execute_input": "2022-08-29T17:59:35.402144Z",
     "iopub.status.busy": "2022-08-29T17:59:35.401697Z",
     "iopub.status.idle": "2022-08-29T17:59:35.410336Z",
     "shell.execute_reply": "2022-08-29T17:59:35.409194Z"
    },
    "papermill": {
     "duration": 0.028549,
     "end_time": "2022-08-29T17:59:35.413048",
     "exception": false,
     "start_time": "2022-08-29T17:59:35.384499",
     "status": "completed"
    },
    "tags": []
   },
   "outputs": [
    {
     "data": {
      "text/plain": [
       "HomePlanet       object\n",
       "CryoSleep        object\n",
       "Destination      object\n",
       "Age             float64\n",
       "VIP              object\n",
       "RoomService     float64\n",
       "FoodCourt       float64\n",
       "ShoppingMall    float64\n",
       "Spa             float64\n",
       "VRDeck          float64\n",
       "Transported        bool\n",
       "dtype: object"
      ]
     },
     "execution_count": 35,
     "metadata": {},
     "output_type": "execute_result"
    }
   ],
   "source": [
    "train_data.dtypes"
   ]
  },
  {
   "cell_type": "code",
   "execution_count": 36,
   "id": "9ff7797d",
   "metadata": {
    "execution": {
     "iopub.execute_input": "2022-08-29T17:59:35.446170Z",
     "iopub.status.busy": "2022-08-29T17:59:35.445734Z",
     "iopub.status.idle": "2022-08-29T17:59:35.485290Z",
     "shell.execute_reply": "2022-08-29T17:59:35.484049Z"
    },
    "papermill": {
     "duration": 0.059218,
     "end_time": "2022-08-29T17:59:35.487983",
     "exception": false,
     "start_time": "2022-08-29T17:59:35.428765",
     "status": "completed"
    },
    "tags": []
   },
   "outputs": [
    {
     "data": {
      "text/html": [
       "<div>\n",
       "<style scoped>\n",
       "    .dataframe tbody tr th:only-of-type {\n",
       "        vertical-align: middle;\n",
       "    }\n",
       "\n",
       "    .dataframe tbody tr th {\n",
       "        vertical-align: top;\n",
       "    }\n",
       "\n",
       "    .dataframe thead th {\n",
       "        text-align: right;\n",
       "    }\n",
       "</style>\n",
       "<table border=\"1\" class=\"dataframe\">\n",
       "  <thead>\n",
       "    <tr style=\"text-align: right;\">\n",
       "      <th></th>\n",
       "      <th>HomePlanet</th>\n",
       "      <th>CryoSleep</th>\n",
       "      <th>Destination</th>\n",
       "      <th>Age</th>\n",
       "      <th>VIP</th>\n",
       "      <th>RoomService</th>\n",
       "      <th>FoodCourt</th>\n",
       "      <th>ShoppingMall</th>\n",
       "      <th>Spa</th>\n",
       "      <th>VRDeck</th>\n",
       "      <th>Transported</th>\n",
       "    </tr>\n",
       "  </thead>\n",
       "  <tbody>\n",
       "    <tr>\n",
       "      <th>0</th>\n",
       "      <td>1</td>\n",
       "      <td>0</td>\n",
       "      <td>2</td>\n",
       "      <td>39.0</td>\n",
       "      <td>0</td>\n",
       "      <td>0.0</td>\n",
       "      <td>0.0</td>\n",
       "      <td>0.0</td>\n",
       "      <td>0.0</td>\n",
       "      <td>0.0</td>\n",
       "      <td>0</td>\n",
       "    </tr>\n",
       "    <tr>\n",
       "      <th>1</th>\n",
       "      <td>0</td>\n",
       "      <td>0</td>\n",
       "      <td>2</td>\n",
       "      <td>24.0</td>\n",
       "      <td>0</td>\n",
       "      <td>109.0</td>\n",
       "      <td>9.0</td>\n",
       "      <td>25.0</td>\n",
       "      <td>549.0</td>\n",
       "      <td>44.0</td>\n",
       "      <td>1</td>\n",
       "    </tr>\n",
       "    <tr>\n",
       "      <th>2</th>\n",
       "      <td>1</td>\n",
       "      <td>0</td>\n",
       "      <td>2</td>\n",
       "      <td>58.0</td>\n",
       "      <td>1</td>\n",
       "      <td>43.0</td>\n",
       "      <td>3576.0</td>\n",
       "      <td>0.0</td>\n",
       "      <td>6715.0</td>\n",
       "      <td>49.0</td>\n",
       "      <td>0</td>\n",
       "    </tr>\n",
       "    <tr>\n",
       "      <th>3</th>\n",
       "      <td>1</td>\n",
       "      <td>0</td>\n",
       "      <td>2</td>\n",
       "      <td>33.0</td>\n",
       "      <td>0</td>\n",
       "      <td>0.0</td>\n",
       "      <td>1283.0</td>\n",
       "      <td>371.0</td>\n",
       "      <td>3329.0</td>\n",
       "      <td>193.0</td>\n",
       "      <td>0</td>\n",
       "    </tr>\n",
       "    <tr>\n",
       "      <th>4</th>\n",
       "      <td>0</td>\n",
       "      <td>0</td>\n",
       "      <td>2</td>\n",
       "      <td>16.0</td>\n",
       "      <td>0</td>\n",
       "      <td>303.0</td>\n",
       "      <td>70.0</td>\n",
       "      <td>151.0</td>\n",
       "      <td>565.0</td>\n",
       "      <td>2.0</td>\n",
       "      <td>1</td>\n",
       "    </tr>\n",
       "  </tbody>\n",
       "</table>\n",
       "</div>"
      ],
      "text/plain": [
       "   HomePlanet  CryoSleep  Destination   Age  VIP  RoomService  FoodCourt  \\\n",
       "0           1          0            2  39.0    0          0.0        0.0   \n",
       "1           0          0            2  24.0    0        109.0        9.0   \n",
       "2           1          0            2  58.0    1         43.0     3576.0   \n",
       "3           1          0            2  33.0    0          0.0     1283.0   \n",
       "4           0          0            2  16.0    0        303.0       70.0   \n",
       "\n",
       "   ShoppingMall     Spa  VRDeck  Transported  \n",
       "0           0.0     0.0     0.0            0  \n",
       "1          25.0   549.0    44.0            1  \n",
       "2           0.0  6715.0    49.0            0  \n",
       "3         371.0  3329.0   193.0            0  \n",
       "4         151.0   565.0     2.0            1  "
      ]
     },
     "execution_count": 36,
     "metadata": {},
     "output_type": "execute_result"
    }
   ],
   "source": [
    "from sklearn.preprocessing import LabelEncoder\n",
    "\n",
    "lbl_encoder = LabelEncoder()\n",
    "\n",
    "train_data['CryoSleep'] = train_data['CryoSleep'].astype('bool')\n",
    "train_data['VIP'] = train_data['VIP'].astype('bool')\n",
    "test_data['CryoSleep'] = test_data['CryoSleep'].astype('bool')\n",
    "test_data['VIP'] = test_data['VIP'].astype('bool')\n",
    "\n",
    "for col in train_data.columns:\n",
    "    if train_data[col].dtype == 'object':\n",
    "        train_data[col] = lbl_encoder.fit_transform(train_data[col])\n",
    "    elif train_data[col].dtype == 'bool':\n",
    "        train_data[col] = train_data[col].astype('int')\n",
    "        \n",
    "for col in test_data.columns:\n",
    "    if test_data[col].dtype == 'object':\n",
    "        test_data[col] = lbl_encoder.fit_transform(test_data[col])\n",
    "    elif test_data[col].dtype == 'bool':\n",
    "        test_data[col] = test_data[col].astype('int')\n",
    "\n",
    "train_data.head()"
   ]
  },
  {
   "cell_type": "code",
   "execution_count": 37,
   "id": "175f4e40",
   "metadata": {
    "execution": {
     "iopub.execute_input": "2022-08-29T17:59:35.521974Z",
     "iopub.status.busy": "2022-08-29T17:59:35.521489Z",
     "iopub.status.idle": "2022-08-29T17:59:35.539905Z",
     "shell.execute_reply": "2022-08-29T17:59:35.538247Z"
    },
    "papermill": {
     "duration": 0.03961,
     "end_time": "2022-08-29T17:59:35.543372",
     "exception": false,
     "start_time": "2022-08-29T17:59:35.503762",
     "status": "completed"
    },
    "tags": []
   },
   "outputs": [
    {
     "name": "stdout",
     "output_type": "stream",
     "text": [
      "   HomePlanet  CryoSleep  Destination   Age  VIP  RoomService  FoodCourt  \\\n",
      "0           1          0            2  39.0    0          0.0        0.0   \n",
      "1           0          0            2  24.0    0        109.0        9.0   \n",
      "2           1          0            2  58.0    1         43.0     3576.0   \n",
      "3           1          0            2  33.0    0          0.0     1283.0   \n",
      "4           0          0            2  16.0    0        303.0       70.0   \n",
      "\n",
      "   ShoppingMall     Spa  VRDeck  \n",
      "0           0.0     0.0     0.0  \n",
      "1          25.0   549.0    44.0  \n",
      "2           0.0  6715.0    49.0  \n",
      "3         371.0  3329.0   193.0  \n",
      "4         151.0   565.0     2.0  \n"
     ]
    }
   ],
   "source": [
    "from sklearn.model_selection import train_test_split\n",
    "y = train_data.Transported\n",
    "x = train_data.drop(['Transported'], axis = 1)\n",
    "print(x.head())\n",
    "x_train, x_test, y_train, y_test = train_test_split(x, y, test_size = 0.3, random_state = 10)"
   ]
  },
  {
   "cell_type": "code",
   "execution_count": 38,
   "id": "d125bebb",
   "metadata": {
    "execution": {
     "iopub.execute_input": "2022-08-29T17:59:35.577028Z",
     "iopub.status.busy": "2022-08-29T17:59:35.576608Z",
     "iopub.status.idle": "2022-08-29T17:59:35.592383Z",
     "shell.execute_reply": "2022-08-29T17:59:35.590743Z"
    },
    "papermill": {
     "duration": 0.035597,
     "end_time": "2022-08-29T17:59:35.595184",
     "exception": false,
     "start_time": "2022-08-29T17:59:35.559587",
     "status": "completed"
    },
    "tags": []
   },
   "outputs": [
    {
     "name": "stdout",
     "output_type": "stream",
     "text": [
      "<class 'pandas.core.frame.DataFrame'>\n",
      "RangeIndex: 4277 entries, 0 to 4276\n",
      "Data columns (total 10 columns):\n",
      " #   Column        Non-Null Count  Dtype  \n",
      "---  ------        --------------  -----  \n",
      " 0   HomePlanet    4277 non-null   int64  \n",
      " 1   CryoSleep     4277 non-null   int64  \n",
      " 2   Destination   4277 non-null   int64  \n",
      " 3   Age           4277 non-null   float64\n",
      " 4   VIP           4277 non-null   int64  \n",
      " 5   RoomService   4277 non-null   float64\n",
      " 6   FoodCourt     4277 non-null   float64\n",
      " 7   ShoppingMall  4277 non-null   float64\n",
      " 8   Spa           4277 non-null   float64\n",
      " 9   VRDeck        4277 non-null   float64\n",
      "dtypes: float64(6), int64(4)\n",
      "memory usage: 334.3 KB\n"
     ]
    }
   ],
   "source": [
    "test_data.info()"
   ]
  },
  {
   "cell_type": "code",
   "execution_count": 39,
   "id": "b2c6d075",
   "metadata": {
    "execution": {
     "iopub.execute_input": "2022-08-29T17:59:35.628782Z",
     "iopub.status.busy": "2022-08-29T17:59:35.628312Z",
     "iopub.status.idle": "2022-08-29T17:59:36.500009Z",
     "shell.execute_reply": "2022-08-29T17:59:36.498617Z"
    },
    "papermill": {
     "duration": 0.891896,
     "end_time": "2022-08-29T17:59:36.503051",
     "exception": false,
     "start_time": "2022-08-29T17:59:35.611155",
     "status": "completed"
    },
    "tags": []
   },
   "outputs": [
    {
     "name": "stdout",
     "output_type": "stream",
     "text": [
      "0.21970858895705522\n"
     ]
    }
   ],
   "source": [
    "from xgboost import XGBRegressor\n",
    "from sklearn.metrics import mean_absolute_error\n",
    "from sklearn.ensemble import RandomForestClassifier\n",
    "my_model = RandomForestClassifier(max_depth = 5, random_state = 10)\n",
    "my_model.fit(x_train, y_train)\n",
    "preds = my_model.predict(x_test)\n",
    "print(mean_absolute_error(preds,y_test))"
   ]
  },
  {
   "cell_type": "code",
   "execution_count": 40,
   "id": "edd90c17",
   "metadata": {
    "execution": {
     "iopub.execute_input": "2022-08-29T17:59:36.537258Z",
     "iopub.status.busy": "2022-08-29T17:59:36.536781Z",
     "iopub.status.idle": "2022-08-29T17:59:36.604671Z",
     "shell.execute_reply": "2022-08-29T17:59:36.603756Z"
    },
    "papermill": {
     "duration": 0.087675,
     "end_time": "2022-08-29T17:59:36.607138",
     "exception": false,
     "start_time": "2022-08-29T17:59:36.519463",
     "status": "completed"
    },
    "tags": []
   },
   "outputs": [
    {
     "data": {
      "text/html": [
       "<div>\n",
       "<style scoped>\n",
       "    .dataframe tbody tr th:only-of-type {\n",
       "        vertical-align: middle;\n",
       "    }\n",
       "\n",
       "    .dataframe tbody tr th {\n",
       "        vertical-align: top;\n",
       "    }\n",
       "\n",
       "    .dataframe thead th {\n",
       "        text-align: right;\n",
       "    }\n",
       "</style>\n",
       "<table border=\"1\" class=\"dataframe\">\n",
       "  <thead>\n",
       "    <tr style=\"text-align: right;\">\n",
       "      <th></th>\n",
       "      <th>PassengerId</th>\n",
       "      <th>Transported</th>\n",
       "    </tr>\n",
       "  </thead>\n",
       "  <tbody>\n",
       "    <tr>\n",
       "      <th>0</th>\n",
       "      <td>0013_01</td>\n",
       "      <td>True</td>\n",
       "    </tr>\n",
       "    <tr>\n",
       "      <th>1</th>\n",
       "      <td>0018_01</td>\n",
       "      <td>False</td>\n",
       "    </tr>\n",
       "    <tr>\n",
       "      <th>2</th>\n",
       "      <td>0019_01</td>\n",
       "      <td>True</td>\n",
       "    </tr>\n",
       "    <tr>\n",
       "      <th>3</th>\n",
       "      <td>0021_01</td>\n",
       "      <td>True</td>\n",
       "    </tr>\n",
       "    <tr>\n",
       "      <th>4</th>\n",
       "      <td>0023_01</td>\n",
       "      <td>False</td>\n",
       "    </tr>\n",
       "    <tr>\n",
       "      <th>...</th>\n",
       "      <td>...</td>\n",
       "      <td>...</td>\n",
       "    </tr>\n",
       "    <tr>\n",
       "      <th>4272</th>\n",
       "      <td>9266_02</td>\n",
       "      <td>True</td>\n",
       "    </tr>\n",
       "    <tr>\n",
       "      <th>4273</th>\n",
       "      <td>9269_01</td>\n",
       "      <td>False</td>\n",
       "    </tr>\n",
       "    <tr>\n",
       "      <th>4274</th>\n",
       "      <td>9271_01</td>\n",
       "      <td>True</td>\n",
       "    </tr>\n",
       "    <tr>\n",
       "      <th>4275</th>\n",
       "      <td>9273_01</td>\n",
       "      <td>True</td>\n",
       "    </tr>\n",
       "    <tr>\n",
       "      <th>4276</th>\n",
       "      <td>9277_01</td>\n",
       "      <td>True</td>\n",
       "    </tr>\n",
       "  </tbody>\n",
       "</table>\n",
       "<p>4277 rows × 2 columns</p>\n",
       "</div>"
      ],
      "text/plain": [
       "     PassengerId  Transported\n",
       "0        0013_01         True\n",
       "1        0018_01        False\n",
       "2        0019_01         True\n",
       "3        0021_01         True\n",
       "4        0023_01        False\n",
       "...          ...          ...\n",
       "4272     9266_02         True\n",
       "4273     9269_01        False\n",
       "4274     9271_01         True\n",
       "4275     9273_01         True\n",
       "4276     9277_01         True\n",
       "\n",
       "[4277 rows x 2 columns]"
      ]
     },
     "execution_count": 40,
     "metadata": {},
     "output_type": "execute_result"
    }
   ],
   "source": [
    "preds = my_model.predict(test_data)\n",
    "submission = pd.DataFrame({'PassengerId': test_ids,'Transported': preds.astype('bool')})\n",
    "submission\n"
   ]
  },
  {
   "cell_type": "code",
   "execution_count": 41,
   "id": "d051a509",
   "metadata": {
    "execution": {
     "iopub.execute_input": "2022-08-29T17:59:36.642814Z",
     "iopub.status.busy": "2022-08-29T17:59:36.642442Z",
     "iopub.status.idle": "2022-08-29T17:59:36.654755Z",
     "shell.execute_reply": "2022-08-29T17:59:36.653678Z"
    },
    "papermill": {
     "duration": 0.033317,
     "end_time": "2022-08-29T17:59:36.657357",
     "exception": false,
     "start_time": "2022-08-29T17:59:36.624040",
     "status": "completed"
    },
    "tags": []
   },
   "outputs": [],
   "source": [
    "submission.to_csv('submission.csv', index= None)"
   ]
  }
 ],
 "metadata": {
  "kernelspec": {
   "display_name": "Python 3",
   "language": "python",
   "name": "python3"
  },
  "language_info": {
   "codemirror_mode": {
    "name": "ipython",
    "version": 3
   },
   "file_extension": ".py",
   "mimetype": "text/x-python",
   "name": "python",
   "nbconvert_exporter": "python",
   "pygments_lexer": "ipython3",
   "version": "3.7.12"
  },
  "papermill": {
   "default_parameters": {},
   "duration": 17.628304,
   "end_time": "2022-08-29T17:59:37.496276",
   "environment_variables": {},
   "exception": null,
   "input_path": "__notebook__.ipynb",
   "output_path": "__notebook__.ipynb",
   "parameters": {},
   "start_time": "2022-08-29T17:59:19.867972",
   "version": "2.3.4"
  }
 },
 "nbformat": 4,
 "nbformat_minor": 5
}
